{
  "nbformat": 4,
  "nbformat_minor": 0,
  "metadata": {
    "colab": {
      "provenance": [],
      "authorship_tag": "ABX9TyNYa8HjIJnH38Yqjmzg5jY2",
      "include_colab_link": true
    },
    "kernelspec": {
      "name": "python3",
      "display_name": "Python 3"
    },
    "language_info": {
      "name": "python"
    }
  },
  "cells": [
    {
      "cell_type": "markdown",
      "metadata": {
        "id": "view-in-github",
        "colab_type": "text"
      },
      "source": [
        "<a href=\"https://colab.research.google.com/github/mbroda2000/Python_and_ML_Repository/blob/while_variant/lab2task2.ipynb\" target=\"_parent\"><img src=\"https://colab.research.google.com/assets/colab-badge.svg\" alt=\"Open In Colab\"/></a>"
      ]
    },
    {
      "cell_type": "code",
      "execution_count": 11,
      "metadata": {
        "colab": {
          "base_uri": "https://localhost:8080/"
        },
        "id": "j8RxPH-mya6j",
        "outputId": "157a0c51-e1aa-42a6-fb4f-6d4c76d1da7b"
      },
      "outputs": [
        {
          "output_type": "stream",
          "name": "stdout",
          "text": [
            "Adam\n",
            "Michael\n",
            "John\n",
            "Jack\n"
          ]
        }
      ],
      "source": [
        "names = ['Adam', 'Michael', 'John', 'Jack']\n",
        "k = 0\n",
        "\n",
        "while k < len(names):\n",
        "    print(names[k])\n",
        "    k=k+1"
      ]
    }
  ]
}