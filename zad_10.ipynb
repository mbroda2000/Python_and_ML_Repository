{
  "nbformat": 4,
  "nbformat_minor": 0,
  "metadata": {
    "colab": {
      "provenance": [],
      "authorship_tag": "ABX9TyMbpyFJhy0jhbyLuObApTpt",
      "include_colab_link": true
    },
    "kernelspec": {
      "name": "python3",
      "display_name": "Python 3"
    },
    "language_info": {
      "name": "python"
    }
  },
  "cells": [
    {
      "cell_type": "markdown",
      "metadata": {
        "id": "view-in-github",
        "colab_type": "text"
      },
      "source": [
        "<a href=\"https://colab.research.google.com/github/mbroda2000/Python_and_ML_Repository/blob/while_variant/zad_10.ipynb\" target=\"_parent\"><img src=\"https://colab.research.google.com/assets/colab-badge.svg\" alt=\"Open In Colab\"/></a>"
      ]
    },
    {
      "cell_type": "code",
      "execution_count": null,
      "metadata": {
        "id": "iiRWHe6r1T-j"
      },
      "outputs": [],
      "source": []
    },
    {
      "cell_type": "code",
      "source": [
        "from google.colab import drive\n",
        "drive.mount('/content/drive')"
      ],
      "metadata": {
        "colab": {
          "base_uri": "https://localhost:8080/"
        },
        "id": "pQdXoTHk1ZNd",
        "outputId": "b56f3b4d-6710-4860-e20d-a23ef4bf6f86"
      },
      "execution_count": 1,
      "outputs": [
        {
          "output_type": "stream",
          "name": "stdout",
          "text": [
            "Mounted at /content/drive\n"
          ]
        }
      ]
    },
    {
      "cell_type": "code",
      "source": [
        "import pandas as pd\n",
        "data = pd.read_csv('drive/MyDrive/exercise_dataset.csv')"
      ],
      "metadata": {
        "id": "_PYXF4ro1ti8"
      },
      "execution_count": 2,
      "outputs": []
    },
    {
      "cell_type": "code",
      "source": [
        "from sklearn.model_selection import train_test_split\n",
        "X = data.drop('Exercise Intensity', axis = 1)\n",
        "y = data['Exercise Intensity']\n",
        "X_train, X_test, y_train, y_test = train_test_split(X, y, test_size=0.2)"
      ],
      "metadata": {
        "id": "c5HKv2_52E3E"
      },
      "execution_count": 6,
      "outputs": []
    },
    {
      "cell_type": "code",
      "source": [
        "from sklearn.model_selection import train_test_split\n",
        "\n",
        "# Split the data into train and the rest\n",
        "X_train, X_temp, y_train, y_temp = train_test_split(X, y, test_size=0.4, random_state=42)\n",
        "\n",
        "# Split the remaining data into validation and test\n",
        "X_val, X_test, y_val, y_test = train_test_split(X_temp, y_temp, test_size=0.5, random_state=42)"
      ],
      "metadata": {
        "id": "-PYh9KEj6rmO"
      },
      "execution_count": 7,
      "outputs": []
    },
    {
      "cell_type": "code",
      "source": [
        "print(\"Training Set:\")\n",
        "print(X_train.head())\n",
        "print(y_train.head())\n",
        "\n",
        "# Wyświetlenie kilku pierwszych wierszy zbioru walidacyjnego\n",
        "print(\"Validation Set:\")\n",
        "print(X_val.head())\n",
        "print(y_val.head())\n",
        "\n",
        "# Wyświetlenie kilku pierwszych wierszy zbioru testowego\n",
        "print(\"Test Set:\")\n",
        "print(X_test.head())\n",
        "print(y_test.head())"
      ],
      "metadata": {
        "colab": {
          "base_uri": "https://localhost:8080/"
        },
        "id": "e5-qFUBr66u2",
        "outputId": "0c284ae5-8a31-4284-cab9-58376f83bc33"
      },
      "execution_count": 8,
      "outputs": [
        {
          "output_type": "stream",
          "name": "stdout",
          "text": [
            "Training Set:\n",
            "        ID    Exercise  Calories Burn  Dream Weight  Actual Weight  Age  \\\n",
            "3531  3532  Exercise 2     185.822850     64.832927      66.729813   35   \n",
            "2083  2084  Exercise 2     223.188835     81.237553      84.271077   27   \n",
            "3841  3842  Exercise 3     158.490219     74.967892      75.403240   53   \n",
            "2242  2243  Exercise 8     227.078787     53.131855      52.757095   55   \n",
            "2645  2646  Exercise 8     180.555308     69.416750      74.097303   52   \n",
            "\n",
            "      Gender  Duration  Heart Rate        BMI Weather Conditions  \n",
            "3531    Male        38         138  27.709497             Cloudy  \n",
            "2083  Female        24         135  24.111252              Rainy  \n",
            "3841  Female        49         130  30.833326              Rainy  \n",
            "2242  Female        54         116  23.035248              Sunny  \n",
            "2645    Male        54         101  22.342325              Rainy  \n",
            "3531     6\n",
            "2083    10\n",
            "3841     6\n",
            "2242    10\n",
            "2645     5\n",
            "Name: Exercise Intensity, dtype: int64\n",
            "Validation Set:\n",
            "        ID     Exercise  Calories Burn  Dream Weight  Actual Weight  Age  \\\n",
            "3578  3579   Exercise 7     401.161028     88.303913      83.722006   50   \n",
            "2337  2338   Exercise 4     324.270799     95.416622      97.277283   47   \n",
            "893    894   Exercise 5     465.961073     89.100476      92.956288   43   \n",
            "727    728  Exercise 10     124.363299     58.310482      55.762244   38   \n",
            "655    656   Exercise 3     494.420261     55.221489      59.540660   56   \n",
            "\n",
            "      Gender  Duration  Heart Rate        BMI Weather Conditions  \n",
            "3578    Male        40         122  29.128203             Cloudy  \n",
            "2337    Male        38         171  24.245586              Rainy  \n",
            "893   Female        45         171  20.664101              Sunny  \n",
            "727     Male        38         107  18.500941              Rainy  \n",
            "655   Female        47         172  30.316965              Sunny  \n",
            "3578     4\n",
            "2337     6\n",
            "893     10\n",
            "727     10\n",
            "655      9\n",
            "Name: Exercise Intensity, dtype: int64\n",
            "Test Set:\n",
            "        ID    Exercise  Calories Burn  Dream Weight  Actual Weight  Age  \\\n",
            "3836  3837  Exercise 7     103.806696     58.627814      58.384466   59   \n",
            "2927  2928  Exercise 3     415.492199     62.226978      62.834879   32   \n",
            "1779  1780  Exercise 3     395.693673     67.826099      72.430540   33   \n",
            "3107  3108  Exercise 6     417.665811     62.063177      66.846384   54   \n",
            "59      60  Exercise 2     283.218258     65.655553      62.786326   48   \n",
            "\n",
            "      Gender  Duration  Heart Rate        BMI Weather Conditions  \n",
            "3836    Male        51         125  32.239616             Cloudy  \n",
            "2927  Female        54         120  23.694371             Cloudy  \n",
            "1779  Female        41         139  22.840339              Sunny  \n",
            "3107  Female        54         116  21.238786              Sunny  \n",
            "59      Male        21         101  34.101793             Cloudy  \n",
            "3836    6\n",
            "2927    5\n",
            "1779    7\n",
            "3107    5\n",
            "59      8\n",
            "Name: Exercise Intensity, dtype: int64\n"
          ]
        }
      ]
    }
  ]
}